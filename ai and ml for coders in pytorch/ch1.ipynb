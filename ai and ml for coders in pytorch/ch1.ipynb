{
 "cells": [
  {
   "cell_type": "markdown",
   "id": "b8c297b0",
   "metadata": {},
   "source": [
    "#### This is from **ai and ml for coders in pytorch** oreilly"
   ]
  },
  {
   "cell_type": "code",
   "execution_count": 10,
   "id": "5406bba8",
   "metadata": {},
   "outputs": [],
   "source": [
    "import torch \n",
    "import torch.nn as nn \n",
    "import torch.optim as optim\n",
    "import numpy as np"
   ]
  },
  {
   "cell_type": "code",
   "execution_count": 11,
   "id": "0e995bcb",
   "metadata": {},
   "outputs": [],
   "source": [
    "# Model\n",
    "model = nn.Sequential(nn.Linear(1,1))"
   ]
  },
  {
   "cell_type": "code",
   "execution_count": 12,
   "id": "0dd0db3d",
   "metadata": {},
   "outputs": [],
   "source": [
    "## loss and optimizer\n",
    "criterion = nn.MSELoss()\n",
    "optimizer = optim.SGD(model.parameters(),lr=0.01)"
   ]
  },
  {
   "cell_type": "code",
   "execution_count": 13,
   "id": "e4e4cf4d",
   "metadata": {},
   "outputs": [],
   "source": [
    "# Data\n",
    "xs = torch.tensor([[-1.0], [0.0], [1.0], [2.0], [3.0], [4.0]], \n",
    "                  dtype=torch.float32)\n",
    "ys = torch.tensor([[-3.0], [-1.0], [1.0], [3.0], [5.0], [7.0]], \n",
    "                  dtype=torch.float32)"
   ]
  },
  {
   "cell_type": "markdown",
   "id": "6573ac3e",
   "metadata": {},
   "source": [
    "$$\n",
    "X = \\begin{bmatrix}\n",
    "-1 \\\\\n",
    "0 \\\\\n",
    "1 \\\\\n",
    "2 \\\\\n",
    "3 \\\\\n",
    "4\n",
    "\\end{bmatrix}, \\quad\n",
    "Y = \\begin{bmatrix}\n",
    "-3 \\\\\n",
    "-1 \\\\\n",
    "1 \\\\\n",
    "3 \\\\\n",
    "5 \\\\\n",
    "7\n",
    "\\end{bmatrix}\n",
    "$$\n"
   ]
  },
  {
   "cell_type": "code",
   "execution_count": 14,
   "id": "b31a0bb9",
   "metadata": {},
   "outputs": [],
   "source": [
    "# Train\n",
    "for _ in range(500):\n",
    "    optimizer.zero_grad()\n",
    "    outputs = model(xs)\n",
    "    loss = criterion(outputs,ys)\n",
    "    loss.backward()\n",
    "    optimizer.step()\n"
   ]
  },
  {
   "cell_type": "code",
   "execution_count": 15,
   "id": "afe7503c",
   "metadata": {},
   "outputs": [
    {
     "name": "stdout",
     "output_type": "stream",
     "text": [
      "tensor([[18.9810]])\n"
     ]
    }
   ],
   "source": [
    "with torch.no_grad():\n",
    "    print(model(torch.tensor([[10.0]],dtype=torch.float32)))"
   ]
  },
  {
   "cell_type": "markdown",
   "id": "c0bb6ed8",
   "metadata": {},
   "source": [
    "### Take a look at the weights and biases that are learned, with code like this:"
   ]
  },
  {
   "cell_type": "code",
   "execution_count": 22,
   "id": "5845dae6",
   "metadata": {},
   "outputs": [
    {
     "name": "stdout",
     "output_type": "stream",
     "text": [
      "Weights:  [[1.9972391]]\n",
      "Bias:  [-0.99144024]\n"
     ]
    }
   ],
   "source": [
    "layer = model[0]\n",
    "weights = layer.weight.data.numpy()\n",
    "bias = layer.bias.data.numpy()\n",
    "print(\"Weights: \",weights)\n",
    "print(\"Bias: \",bias)"
   ]
  },
  {
   "cell_type": "markdown",
   "id": "fbef73d6",
   "metadata": {},
   "source": [
    "Thus, the learned relationship between x and y was y = 1.998695 x – 0.9959542."
   ]
  },
  {
   "cell_type": "markdown",
   "id": "eb24d7e4",
   "metadata": {},
   "source": [
    "That’s it for your first “Hello World” of ML. You might be thinking that this seems like massive overkill for something as simple as determining a linear relationship between two values—and you’d be right. But the cool thing about this is that the pattern of code we’ve created here is the same pattern that’s used for far more complex scenarios. "
   ]
  },
  {
   "cell_type": "code",
   "execution_count": null,
   "id": "496884be",
   "metadata": {},
   "outputs": [],
   "source": []
  },
  {
   "cell_type": "code",
   "execution_count": null,
   "id": "484d9eb6",
   "metadata": {},
   "outputs": [],
   "source": []
  }
 ],
 "metadata": {
  "kernelspec": {
   "display_name": "Python 3",
   "language": "python",
   "name": "python3"
  },
  "language_info": {
   "codemirror_mode": {
    "name": "ipython",
    "version": 3
   },
   "file_extension": ".py",
   "mimetype": "text/x-python",
   "name": "python",
   "nbconvert_exporter": "python",
   "pygments_lexer": "ipython3",
   "version": "3.10.17"
  }
 },
 "nbformat": 4,
 "nbformat_minor": 5
}

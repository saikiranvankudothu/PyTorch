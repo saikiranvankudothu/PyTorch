{
 "cells": [
  {
   "cell_type": "markdown",
   "id": "72e56a3a",
   "metadata": {},
   "source": [
    "### Chapter 6. Making Sentiment Programmable by Using Embeddings\n",
    "\n",
    "**Embeddings:** These are high-dimensional vectors that represent words. Each word is mapped to a vector, and the direction of these vectors is learned from how the words are used in a given text corpus.\n",
    "\n",
    "**Sentence Sentiment:** When you have a sentence, you can sum the vectors of the words it contains. The overall direction of this sum can help the model determine the sentiment of the sentence, which is a function of its individual words.\n",
    "\n",
    "**Word Positioning:** The positioning of words in the sentence can also influence the embedding, making the model more accurate over time."
   ]
  },
  {
   "cell_type": "code",
   "execution_count": null,
   "id": "13d8ff16",
   "metadata": {},
   "outputs": [],
   "source": []
  }
 ],
 "metadata": {
  "language_info": {
   "name": "python"
  }
 },
 "nbformat": 4,
 "nbformat_minor": 5
}

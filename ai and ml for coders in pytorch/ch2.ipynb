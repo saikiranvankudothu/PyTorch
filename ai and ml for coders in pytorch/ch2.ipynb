{
 "cells": [
  {
   "cell_type": "markdown",
   "id": "853b94d3",
   "metadata": {},
   "source": [
    "### How Computer Vision Works\n",
    "Computer vision is the ability of a computer to recognize items beyond just storing their pixels\n",
    "\n",
    "Each of our images is a set of 784 values (28 × 28) between 0 and 255. Given that we have 784 x values per image and our y is going to be between 0 and 9, a simple equation like y = mx + c isn’t going to be enough to solve the problem."
   ]
  },
  {
   "cell_type": "code",
   "execution_count": 3,
   "id": "f10c7102",
   "metadata": {},
   "outputs": [],
   "source": [
    "import torch\n",
    "import torch.nn as nn\n",
    "import  torch.optim as optim\n",
    "from torchvision import datasets,transforms\n",
    "from torch.utils.data import DataLoader"
   ]
  },
  {
   "cell_type": "markdown",
   "id": "2101f51e",
   "metadata": {},
   "source": [
    " when we train our neural network, we have two goals. We want to be able to feed in a 28 × 28–pixel array, and we want the neurons in the middle layer to have weights and biases (w and B values) that, when combined, will match those pixels to one of the 10 output values.\n",
    " \n",
    "Training a model with the Fashion MNIST data.\n"
   ]
  },
  {
   "cell_type": "code",
   "execution_count": 4,
   "id": "4060507d",
   "metadata": {},
   "outputs": [],
   "source": [
    "# function to calculate accuracy (training)\n",
    "def get_accuracy(pred,labels):\n",
    "    _,predictions = torch.max(pred,1)\n",
    "    correct = (predictions==labels).float().sum()\n",
    "    accuracy = correct/labels.shape[0]\n",
    "    return accuracy"
   ]
  },
  {
   "cell_type": "code",
   "execution_count": 5,
   "id": "aa4ddfab",
   "metadata": {},
   "outputs": [
    {
     "name": "stdout",
     "output_type": "stream",
     "text": [
      "Epoch1\n",
      "---------------------------------\n",
      "Batch 0, Loss: 2.249779, Accuracy: 0.00% [    0/60000]\n",
      "Epoch2\n",
      "---------------------------------\n",
      "Batch 0, Loss: 0.145364, Accuracy: 87.50% [    0/60000]\n",
      "Epoch3\n",
      "---------------------------------\n",
      "Batch 0, Loss: 0.249866, Accuracy: 87.50% [    0/60000]\n",
      "Epoch4\n",
      "---------------------------------\n",
      "Batch 0, Loss: 0.130959, Accuracy: 87.50% [    0/60000]\n",
      "Epoch5\n",
      "---------------------------------\n",
      "Batch 0, Loss: 1.083208, Accuracy: 62.50% [    0/60000]\n",
      "Training Completed\n"
     ]
    }
   ],
   "source": [
    "## Load the dataset\n",
    "transform = transforms.Compose([transforms.ToTensor()])\n",
    "## Data comes from torchvision library,\n",
    "train_dataset = datasets.FashionMNIST(root='./data',train=True,download=True,transform=transform)\n",
    "test_dataset = datasets.FashionMNIST(root='./data',train=False,download=True,transform=transform)\n",
    "\n",
    "train_loader = DataLoader(train_dataset,batch_size=8,shuffle=True)\n",
    "test_loader = DataLoader(test_dataset,batch_size=8,shuffle=False)\n",
    "\n",
    "## define the model\n",
    "# subclasses nn.Module, which gives you the ability to override its forward method.\n",
    "class FashionMNISTModel(nn.Module):\n",
    "    def __init__(self):\n",
    "        super(FashionMNISTModel,self).__init__()\n",
    "        self.flatten = nn.Flatten()\n",
    "        self.linear_relu_stack = nn.Sequential(\n",
    "            nn.Linear(28*28,128),\n",
    "            nn.ReLU(),\n",
    "            nn.Linear(128,10),\n",
    "            nn.LogSoftmax(dim=1)\n",
    "        )\n",
    "\n",
    "    def forward(self,x):\n",
    "        x = self.flatten(x)\n",
    "        logits = self.linear_relu_stack(x)\n",
    "        return logits\n",
    "model  = FashionMNISTModel()\n",
    "\n",
    "## define the loss function and optimizer\n",
    "loss_function = nn.NLLLoss()\n",
    "optimizer = optim.Adam(model.parameters())\n",
    "'''\n",
    "model.parameters() \n",
    "as a parameter to this. This parameter passes all the trainable \n",
    "parameters in the model to the optimizer so that it can adjust \n",
    "them to help minimize the loss calculated by the loss function.\n",
    "'''\n",
    "# train the model\n",
    "def train(dataloader,model,loss_fn,optimizer):\n",
    "    size = len(dataloader.dataset)\n",
    "    model.train()\n",
    "    for batch,(X,y) in enumerate(dataloader):\n",
    "        # compute prediction and loss\n",
    "        pred = model(X)\n",
    "        loss = loss_fn(pred,y)\n",
    "        accuracy = get_accuracy(pred,y)\n",
    "        # backpropagation\n",
    "        optimizer.zero_grad()\n",
    "        loss.backward()\n",
    "        optimizer.step()\n",
    "\n",
    "        if batch%10000 == 0:\n",
    "            current = batch * len(X)\n",
    "            avg_loss = loss / (batch + 1)\n",
    "            avg_accuracy = accuracy / (batch + 1) * 100\n",
    "            print(f\"Batch {batch}, Loss: {avg_loss:>7f}, Accuracy: {avg_accuracy:>0.2f}% [{current:>5d}/{size:>5d}]\")\n",
    "\n",
    "'''\n",
    "batch is to take a chunk of that data—which, by default, is 64 \n",
    "items—and work with it. Enumerating the data loader gives us \n",
    "that, so we’ll train with 938 batches, 937 of 64, and the last \n",
    "one of 32 because you can’t evenly divide 60,000 by 64!\n",
    "'''\n",
    "# Training process\n",
    "epochs = 5\n",
    "for t in range(epochs):\n",
    "    print(f\"Epoch{t+1}\\n---------------------------------\")\n",
    "    train(train_loader,model,loss_function,optimizer)\n",
    "print(\"Training Completed\")"
   ]
  },
  {
   "cell_type": "code",
   "execution_count": 6,
   "id": "e0a8e211",
   "metadata": {},
   "outputs": [
    {
     "name": "stdout",
     "output_type": "stream",
     "text": [
      "Test Error:\n",
      " Accuracy: 87.1%,Avg loss :0.368688\n",
      "\n"
     ]
    }
   ],
   "source": [
    "# function to test the model\n",
    "def test(dataloader,model):\n",
    "    size = len(dataloader.dataset)\n",
    "    num_batches = len(dataloader)\n",
    "    model.eval()# set the model to evalution mode\n",
    "    test_loss,correct = 0,0\n",
    "    with torch.no_grad():\n",
    "        for X,y in dataloader:\n",
    "            pred = model(X)\n",
    "            test_loss += loss_function(pred,y).item()\n",
    "            correct +=(pred.argmax(1) == y).type(torch.float).sum().item()\n",
    "    test_loss /= num_batches\n",
    "    correct /=size\n",
    "    print(f\"Test Error:\\n Accuracy: {(100*correct):>0.1f}%,Avg loss :{test_loss:8f}\\n\")\n",
    "\n",
    "# Evaluate the model\n",
    "test(test_loader,model)"
   ]
  },
  {
   "cell_type": "code",
   "execution_count": 7,
   "id": "d070c95d",
   "metadata": {},
   "outputs": [
    {
     "name": "stdout",
     "output_type": "stream",
     "text": [
      "tensor([[-1.6885e+01, -2.4493e+01, -2.8579e+01, -2.5021e+01, -2.4524e+01,\n",
      "         -7.6333e+00, -1.8274e+01, -5.5638e+00, -1.4783e+01, -4.3281e-03]])\n"
     ]
    },
    {
     "data": {
      "image/png": "[encoded data removed]",
      "text/plain": [
       "<Figure size 640x480 with 1 Axes>"
      ]
     },
     "metadata": {},
     "output_type": "display_data"
    },
    {
     "name": "stdout",
     "output_type": "stream",
     "text": [
      "The model predicted 9,and the actual label is 9.\n"
     ]
    }
   ],
   "source": [
    "import matplotlib.pyplot as plt\n",
    "def predict_single_image(image,label,model):\n",
    "    model.eval()\n",
    "# unsqueeze image as the model expects a batch dimension\n",
    "    image = image.unsqueeze(0)\n",
    "    with torch.no_grad():\n",
    "        prediction = model(image)\n",
    "        print(prediction)\n",
    "        predicted_label = prediction.argmax(1).item()\n",
    "\n",
    "    plt.imshow(image.squeeze(),cmap='gray')\n",
    "    plt.title(f'Predicted:{predicted_label}, Actual:{label}')\n",
    "    plt.show()\n",
    "    return predicted_label\n",
    "# chose an image from the test set\n",
    "image,label = test_dataset[0]\n",
    "# predict the class for the chosen image\n",
    "predicted_label = predict_single_image(image,label,model)\n",
    "print(f\"The model predicted {predicted_label},and the actual label is {label}.\")\n",
    "\n"
   ]
  },
  {
   "cell_type": "markdown",
   "id": "5a0fd384",
   "metadata": {},
   "source": [
    "* This process of early stopping is very powerful in helping you save time as you evaluate different model architectures for solving specific problems. It helps you train your model until it’s “good enough,” instead of having a fixed training loop. For example, the process can look like this:\n",
    "\n",
    "* To do better at vision, you may need the computer to learn features of an image instead of learning merely the raw pixels. You can do that with a process called convolutions, and in the next chapter, you’ll learn how to define convolutional neural networks to understand the contents of images."
   ]
  }
 ],
 "metadata": {
  "kernelspec": {
   "display_name": "Python 3",
   "language": "python",
   "name": "python3"
  },
  "language_info": {
   "codemirror_mode": {
    "name": "ipython",
    "version": 3
   },
   "file_extension": ".py",
   "mimetype": "text/x-python",
   "name": "python",
   "nbconvert_exporter": "python",
   "pygments_lexer": "ipython3",
   "version": "3.10.17"
  }
 },
 "nbformat": 4,
 "nbformat_minor": 5
}

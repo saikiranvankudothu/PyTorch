{
  "nbformat": 4,
  "nbformat_minor": 0,
  "metadata": {
    "colab": {
      "provenance": [],
      "gpuType": "T4"
    },
    "kernelspec": {
      "name": "python3",
      "display_name": "Python 3"
    },
    "language_info": {
      "name": "python"
    }
  },
  "cells": [
    {
      "cell_type": "code",
      "execution_count": 1,
      "metadata": {
        "colab": {
          "base_uri": "https://localhost:8080/"
        },
        "id": "sNzRb8x85amc",
        "outputId": "ac7f5854-3e6b-4f31-8f90-4543c74a1921"
      },
      "outputs": [
        {
          "output_type": "stream",
          "name": "stdout",
          "text": [
            "2.6.0+cu124\n"
          ]
        }
      ],
      "source": [
        "import torch\n",
        "import pandas as pd\n",
        "import numpy as np\n",
        "import matplotlib.pyplot as plt\n",
        "print(torch.__version__)"
      ]
    },
    {
      "cell_type": "code",
      "source": [
        "!nvidia-smi"
      ],
      "metadata": {
        "colab": {
          "base_uri": "https://localhost:8080/"
        },
        "id": "WSX3waUk7Wdg",
        "outputId": "cc72d324-2721-4c23-a1a4-e15e3ba0952e"
      },
      "execution_count": 2,
      "outputs": [
        {
          "output_type": "stream",
          "name": "stdout",
          "text": [
            "/bin/bash: line 1: nvidia-smi: command not found\n"
          ]
        }
      ]
    },
    {
      "cell_type": "markdown",
      "source": [
        "# Introduction to Tensors\n",
        "\n",
        "### Creating tensors\n",
        "\n",
        "PyTorch tensors are created using torch.tensor()"
      ],
      "metadata": {
        "id": "5tv_Tr_d9KWZ"
      }
    },
    {
      "cell_type": "code",
      "source": [
        "scalar = torch.tensor(7)\n",
        "scalar"
      ],
      "metadata": {
        "id": "HbyKypOD7iKh",
        "colab": {
          "base_uri": "https://localhost:8080/"
        },
        "outputId": "2254e91f-fd55-4265-9341-949fc60ef5dd"
      },
      "execution_count": 3,
      "outputs": [
        {
          "output_type": "execute_result",
          "data": {
            "text/plain": [
              "tensor(7)"
            ]
          },
          "metadata": {},
          "execution_count": 3
        }
      ]
    },
    {
      "cell_type": "code",
      "source": [
        "scalar.ndim"
      ],
      "metadata": {
        "colab": {
          "base_uri": "https://localhost:8080/"
        },
        "id": "r0vDAT2l938a",
        "outputId": "a480b25b-86b1-464d-c65d-b36bc1505789"
      },
      "execution_count": 4,
      "outputs": [
        {
          "output_type": "execute_result",
          "data": {
            "text/plain": [
              "0"
            ]
          },
          "metadata": {},
          "execution_count": 4
        }
      ]
    },
    {
      "cell_type": "code",
      "source": [
        "# get the tensor back to python int\n",
        "scalar.item()"
      ],
      "metadata": {
        "colab": {
          "base_uri": "https://localhost:8080/"
        },
        "id": "AhNsxkui-QCw",
        "outputId": "cc73541b-2317-4572-acdf-f024ed22f25e"
      },
      "execution_count": 5,
      "outputs": [
        {
          "output_type": "execute_result",
          "data": {
            "text/plain": [
              "7"
            ]
          },
          "metadata": {},
          "execution_count": 5
        }
      ]
    },
    {
      "cell_type": "code",
      "source": [
        "# vector\n",
        "vector = torch.tensor([7,7])"
      ],
      "metadata": {
        "id": "j2Jp17fL-UmN"
      },
      "execution_count": 6,
      "outputs": []
    },
    {
      "cell_type": "code",
      "source": [
        "vector"
      ],
      "metadata": {
        "colab": {
          "base_uri": "https://localhost:8080/"
        },
        "id": "PA1Ed8Qw-pF9",
        "outputId": "1d73b16e-9030-49e9-fe55-d43c028dbe23"
      },
      "execution_count": 7,
      "outputs": [
        {
          "output_type": "execute_result",
          "data": {
            "text/plain": [
              "tensor([7, 7])"
            ]
          },
          "metadata": {},
          "execution_count": 7
        }
      ]
    },
    {
      "cell_type": "code",
      "source": [
        "# check the dim as no. of square bracket\n",
        "vector.ndim"
      ],
      "metadata": {
        "colab": {
          "base_uri": "https://localhost:8080/"
        },
        "id": "UKtvDEWP-pkw",
        "outputId": "9058dd64-5513-4960-f37d-fb22d06d60bf"
      },
      "execution_count": 8,
      "outputs": [
        {
          "output_type": "execute_result",
          "data": {
            "text/plain": [
              "1"
            ]
          },
          "metadata": {},
          "execution_count": 8
        }
      ]
    },
    {
      "cell_type": "code",
      "source": [
        "vector.shape"
      ],
      "metadata": {
        "colab": {
          "base_uri": "https://localhost:8080/"
        },
        "id": "NdlxTa0F-xQr",
        "outputId": "3319dcf7-3f4c-4233-c9af-04d830c7b7ac"
      },
      "execution_count": 9,
      "outputs": [
        {
          "output_type": "execute_result",
          "data": {
            "text/plain": [
              "torch.Size([2])"
            ]
          },
          "metadata": {},
          "execution_count": 9
        }
      ]
    },
    {
      "cell_type": "code",
      "source": [
        "matrix = torch.tensor([[7,8],\n",
        "                       [4,6]])"
      ],
      "metadata": {
        "id": "ooWzbv4K-7F4"
      },
      "execution_count": 10,
      "outputs": []
    },
    {
      "cell_type": "code",
      "source": [
        "matrix"
      ],
      "metadata": {
        "colab": {
          "base_uri": "https://localhost:8080/"
        },
        "id": "EFST94ZU_Oxs",
        "outputId": "54c25a50-d1dc-4944-c8cb-b402f8aac66d"
      },
      "execution_count": 11,
      "outputs": [
        {
          "output_type": "execute_result",
          "data": {
            "text/plain": [
              "tensor([[7, 8],\n",
              "        [4, 6]])"
            ]
          },
          "metadata": {},
          "execution_count": 11
        }
      ]
    },
    {
      "cell_type": "code",
      "source": [
        "matrix.ndim"
      ],
      "metadata": {
        "colab": {
          "base_uri": "https://localhost:8080/"
        },
        "id": "Id28tZ7f_PV5",
        "outputId": "7cb405b9-2a18-4925-b197-64b7f9f00bf7"
      },
      "execution_count": 12,
      "outputs": [
        {
          "output_type": "execute_result",
          "data": {
            "text/plain": [
              "2"
            ]
          },
          "metadata": {},
          "execution_count": 12
        }
      ]
    },
    {
      "cell_type": "code",
      "source": [
        "matrix[0]"
      ],
      "metadata": {
        "colab": {
          "base_uri": "https://localhost:8080/"
        },
        "id": "1cJhkcf-_SUt",
        "outputId": "8399cfca-2567-42a5-b647-eed1438bd019"
      },
      "execution_count": 13,
      "outputs": [
        {
          "output_type": "execute_result",
          "data": {
            "text/plain": [
              "tensor([7, 8])"
            ]
          },
          "metadata": {},
          "execution_count": 13
        }
      ]
    },
    {
      "cell_type": "code",
      "source": [
        "matrix.shape"
      ],
      "metadata": {
        "colab": {
          "base_uri": "https://localhost:8080/"
        },
        "id": "wMRRYrWL_Uuj",
        "outputId": "4b7ba5f7-5a8a-46e4-cc21-cccd94e940d3"
      },
      "execution_count": 14,
      "outputs": [
        {
          "output_type": "execute_result",
          "data": {
            "text/plain": [
              "torch.Size([2, 2])"
            ]
          },
          "metadata": {},
          "execution_count": 14
        }
      ]
    },
    {
      "cell_type": "markdown",
      "source": [
        "# Random Tensors\n",
        "\n",
        "### Why Random Tensors\n",
        "Random tensors are important because the way many neural networks learn is that they start with tensors full of random adjust those random numbers to better represent the data"
      ],
      "metadata": {
        "id": "PusgGPfpAZlB"
      }
    },
    {
      "cell_type": "code",
      "source": [
        "# create a random tensor of size (3,4)\n",
        "random_tensor = torch.rand(3,128,128)"
      ],
      "metadata": {
        "id": "VZSBFCUc_YYf"
      },
      "execution_count": 15,
      "outputs": []
    },
    {
      "cell_type": "code",
      "source": [
        "random_tensor"
      ],
      "metadata": {
        "colab": {
          "base_uri": "https://localhost:8080/"
        },
        "id": "n8QVBu3TBAhO",
        "outputId": "b6e650b9-61f5-499f-a5db-a553a686d64b"
      },
      "execution_count": 16,
      "outputs": [
        {
          "output_type": "execute_result",
          "data": {
            "text/plain": [
              "tensor([[[0.3460, 0.5826, 0.6213,  ..., 0.6338, 0.9892, 0.3160],\n",
              "         [0.4149, 0.0047, 0.9930,  ..., 0.3131, 0.8999, 0.4261],\n",
              "         [0.7612, 0.3396, 0.8619,  ..., 0.2587, 0.1907, 0.9463],\n",
              "         ...,\n",
              "         [0.8825, 0.2056, 0.8618,  ..., 0.5871, 0.6713, 0.6059],\n",
              "         [0.1518, 0.7697, 0.5761,  ..., 0.6249, 0.4276, 0.3590],\n",
              "         [0.5213, 0.0922, 0.6709,  ..., 0.0434, 0.3802, 0.5685]],\n",
              "\n",
              "        [[0.4583, 0.4464, 0.5576,  ..., 0.5550, 0.9556, 0.1379],\n",
              "         [0.0548, 0.7047, 0.7784,  ..., 0.1419, 0.0553, 0.2998],\n",
              "         [0.2275, 0.6565, 0.7042,  ..., 0.7181, 0.6586, 0.4793],\n",
              "         ...,\n",
              "         [0.4666, 0.3851, 0.7304,  ..., 0.3012, 0.6772, 0.1153],\n",
              "         [0.6573, 0.6317, 0.8555,  ..., 0.0748, 0.2914, 0.4668],\n",
              "         [0.4761, 0.2708, 0.9437,  ..., 0.3705, 0.2837, 0.6458]],\n",
              "\n",
              "        [[0.4683, 0.3465, 0.7246,  ..., 0.3996, 0.1410, 0.7774],\n",
              "         [0.0016, 0.2489, 0.7544,  ..., 0.2604, 0.7833, 0.9298],\n",
              "         [0.5732, 0.0842, 0.9323,  ..., 0.0712, 0.8718, 0.2894],\n",
              "         ...,\n",
              "         [0.5996, 0.5868, 0.4106,  ..., 0.9851, 0.7957, 0.5381],\n",
              "         [0.6760, 0.6761, 0.8961,  ..., 0.1456, 0.6344, 0.7827],\n",
              "         [0.1658, 0.3740, 0.4857,  ..., 0.9934, 0.6511, 0.3021]]])"
            ]
          },
          "metadata": {},
          "execution_count": 16
        }
      ]
    },
    {
      "cell_type": "markdown",
      "source": [
        "#**Some Crazy Stuff**"
      ],
      "metadata": {
        "id": "KvqmxDiWDZRD"
      }
    },
    {
      "cell_type": "code",
      "source": [
        "# import torchvision.transforms as transforms\n",
        "# from PIL import Image\n",
        "# to_pil = transforms.ToPILImage()\n",
        "# image = to_pil(random_tensor)\n",
        "\n",
        "# image.save(\"random_image.png\")\n",
        "# image.show()"
      ],
      "metadata": {
        "id": "NcUJbFlwBCEP"
      },
      "execution_count": 17,
      "outputs": []
    },
    {
      "cell_type": "code",
      "source": [
        "# import torch\n",
        "# import numpy as np\n",
        "# from PIL import Image\n",
        "\n",
        "# H, W = 256, 256\n",
        "# tensor = torch.zeros(3, H, W)  # Black RGB image\n",
        "\n",
        "# # Circle parameters\n",
        "# cx, cy = W // 2, H // 2\n",
        "# radius = 60\n",
        "\n",
        "# # Create meshgrid of coordinates\n",
        "# y, x = torch.meshgrid(torch.arange(H), torch.arange(W), indexing='ij')\n",
        "\n",
        "# # Create circle mask\n",
        "# mask = (x - cx)**2 + (y - cy)**2 < radius**2\n",
        "\n",
        "# # Set the circle area to white (255 in all RGB channels)\n",
        "# tensor[:, mask] = 1.0  # or 255 if using uint8 later\n",
        "\n",
        "# # Convert to image\n",
        "# image = transforms.ToPILImage()(tensor)\n",
        "# image.show()\n"
      ],
      "metadata": {
        "id": "ttQzQmlKCYcg"
      },
      "execution_count": 18,
      "outputs": []
    },
    {
      "cell_type": "code",
      "source": [
        "# freq = 10.0\n",
        "# pattern = torch.sin(x.float() / freq) + torch.cos(y.float() / freq)\n",
        "# normalized = (pattern - pattern.min()) / (pattern.max() - pattern.min())\n",
        "\n",
        "# # Expand to 3 channels\n",
        "# tensor = normalized.unsqueeze(0).repeat(3, 1, 1)\n",
        "# image = transforms.ToPILImage()(tensor)\n",
        "# image.save(\"shape.png\")\n",
        "# image.show()\n"
      ],
      "metadata": {
        "id": "59E3CG4rC2E4"
      },
      "execution_count": 19,
      "outputs": []
    },
    {
      "cell_type": "markdown",
      "source": [
        "## creating the tensors of all zeros"
      ],
      "metadata": {
        "id": "9DBNRiunD0u2"
      }
    },
    {
      "cell_type": "code",
      "source": [
        "zeros = torch.zeros(size=(3,4))\n",
        "zeros"
      ],
      "metadata": {
        "id": "qc0MKgmaC3xL",
        "colab": {
          "base_uri": "https://localhost:8080/"
        },
        "outputId": "99b81678-2694-4c04-e956-b8b2866ba159"
      },
      "execution_count": 20,
      "outputs": [
        {
          "output_type": "execute_result",
          "data": {
            "text/plain": [
              "tensor([[0., 0., 0., 0.],\n",
              "        [0., 0., 0., 0.],\n",
              "        [0., 0., 0., 0.]])"
            ]
          },
          "metadata": {},
          "execution_count": 20
        }
      ]
    },
    {
      "cell_type": "code",
      "source": [
        "ones = torch.ones(size=(3,4))"
      ],
      "metadata": {
        "id": "PBZFa7w_O96V"
      },
      "execution_count": 21,
      "outputs": []
    },
    {
      "cell_type": "code",
      "source": [
        "ones"
      ],
      "metadata": {
        "colab": {
          "base_uri": "https://localhost:8080/"
        },
        "id": "cki-6cTJPN4w",
        "outputId": "381e2bb8-84c6-42f2-e8a1-a0eac0c2355d"
      },
      "execution_count": 22,
      "outputs": [
        {
          "output_type": "execute_result",
          "data": {
            "text/plain": [
              "tensor([[1., 1., 1., 1.],\n",
              "        [1., 1., 1., 1.],\n",
              "        [1., 1., 1., 1.]])"
            ]
          },
          "metadata": {},
          "execution_count": 22
        }
      ]
    },
    {
      "cell_type": "code",
      "source": [
        "ones.dtype"
      ],
      "metadata": {
        "colab": {
          "base_uri": "https://localhost:8080/"
        },
        "id": "f5hjWvrYPOk2",
        "outputId": "22928c10-1698-4230-db39-3347f581d0e8"
      },
      "execution_count": 23,
      "outputs": [
        {
          "output_type": "execute_result",
          "data": {
            "text/plain": [
              "torch.float32"
            ]
          },
          "metadata": {},
          "execution_count": 23
        }
      ]
    },
    {
      "cell_type": "code",
      "source": [
        "data = torch.arange(0,10,0.5)"
      ],
      "metadata": {
        "id": "IFfNFpWoPQUN"
      },
      "execution_count": 24,
      "outputs": []
    },
    {
      "cell_type": "code",
      "source": [
        "like_zeros = torch.zeros_like(input = data)"
      ],
      "metadata": {
        "id": "D5-N9JbwQjn-"
      },
      "execution_count": 25,
      "outputs": []
    },
    {
      "cell_type": "code",
      "source": [
        "like_zeros"
      ],
      "metadata": {
        "colab": {
          "base_uri": "https://localhost:8080/"
        },
        "id": "NPpWZB5QRWa3",
        "outputId": "51d8ae50-de79-4568-943c-9b5e68b8d013"
      },
      "execution_count": 26,
      "outputs": [
        {
          "output_type": "execute_result",
          "data": {
            "text/plain": [
              "tensor([0., 0., 0., 0., 0., 0., 0., 0., 0., 0., 0., 0., 0., 0., 0., 0., 0., 0., 0., 0.])"
            ]
          },
          "metadata": {},
          "execution_count": 26
        }
      ]
    },
    {
      "cell_type": "code",
      "source": [
        "float_32_tensor = torch.tensor([3.0,6.0,9.0],\n",
        "                               dtype=None,\n",
        "                               device=None,\n",
        "                               requires_grad=False)\n",
        "float_32_tensor"
      ],
      "metadata": {
        "colab": {
          "base_uri": "https://localhost:8080/"
        },
        "id": "B1CVN-jvThTM",
        "outputId": "36989d78-9fdd-44b2-bad4-d31c792458a9"
      },
      "execution_count": 27,
      "outputs": [
        {
          "output_type": "execute_result",
          "data": {
            "text/plain": [
              "tensor([3., 6., 9.])"
            ]
          },
          "metadata": {},
          "execution_count": 27
        }
      ]
    },
    {
      "cell_type": "code",
      "source": [
        "float_32_tensor.dtype"
      ],
      "metadata": {
        "colab": {
          "base_uri": "https://localhost:8080/"
        },
        "id": "nNC27gBpT5Ws",
        "outputId": "9c2bb2c9-d9b0-496d-8542-b558b07fd297"
      },
      "execution_count": 28,
      "outputs": [
        {
          "output_type": "execute_result",
          "data": {
            "text/plain": [
              "torch.float32"
            ]
          },
          "metadata": {},
          "execution_count": 28
        }
      ]
    },
    {
      "cell_type": "code",
      "source": [
        "# default datatype of pytorch is float_32_tensor\n",
        "float_16_tensor = float_32_tensor.type(torch.float16)"
      ],
      "metadata": {
        "id": "KwnybE_JRX6G"
      },
      "execution_count": 29,
      "outputs": []
    },
    {
      "cell_type": "code",
      "source": [
        "float_16_tensor"
      ],
      "metadata": {
        "colab": {
          "base_uri": "https://localhost:8080/"
        },
        "id": "cxXef_fdRmdP",
        "outputId": "87e8bed6-1992-4524-ebd7-d69e059b5700"
      },
      "execution_count": 30,
      "outputs": [
        {
          "output_type": "execute_result",
          "data": {
            "text/plain": [
              "tensor([3., 6., 9.], dtype=torch.float16)"
            ]
          },
          "metadata": {},
          "execution_count": 30
        }
      ]
    },
    {
      "cell_type": "code",
      "source": [
        "float_16_tensor*float_32_tensor"
      ],
      "metadata": {
        "colab": {
          "base_uri": "https://localhost:8080/"
        },
        "id": "HdzQr0X9Tacu",
        "outputId": "eff51705-a6de-4682-8b68-8617de947dba"
      },
      "execution_count": 31,
      "outputs": [
        {
          "output_type": "execute_result",
          "data": {
            "text/plain": [
              "tensor([ 9., 36., 81.])"
            ]
          },
          "metadata": {},
          "execution_count": 31
        }
      ]
    },
    {
      "cell_type": "markdown",
      "source": [
        "##Getting information from tensors (tensor attributes)\n",
        "1.Tensors not right datatype - to do get datatype from a tensor, can use tensor.dtype\n",
        "\n",
        "2.Tensors not right shape - to get shape from a tensor, can use tensor.shape\n",
        "\n",
        "3.Tensors not on the right device - to get device from a tensor, can use tensor.device"
      ],
      "metadata": {
        "id": "rTMPx4paUnJf"
      }
    },
    {
      "cell_type": "code",
      "source": [
        "# create a tensor\n",
        "some_tensor = torch.rand(3,4)\n",
        "some_tensor"
      ],
      "metadata": {
        "colab": {
          "base_uri": "https://localhost:8080/"
        },
        "id": "AbaWUMMcUEcC",
        "outputId": "93c266b6-9c33-434a-b09a-540d62a52396"
      },
      "execution_count": 32,
      "outputs": [
        {
          "output_type": "execute_result",
          "data": {
            "text/plain": [
              "tensor([[0.9319, 0.9604, 0.6948, 0.0726],\n",
              "        [0.8947, 0.7395, 0.0234, 0.5581],\n",
              "        [0.0084, 0.2273, 0.5826, 0.9258]])"
            ]
          },
          "metadata": {},
          "execution_count": 32
        }
      ]
    },
    {
      "cell_type": "code",
      "source": [
        "print(some_tensor)\n",
        "print(f\"DataType of tensor :{some_tensor.dtype}\")\n",
        "print(f\"Shape of tensor : {some_tensor.shape}\")\n",
        "print(f\"Device of tensor : {some_tensor.device}\")"
      ],
      "metadata": {
        "colab": {
          "base_uri": "https://localhost:8080/"
        },
        "id": "53nH6-d7bXUc",
        "outputId": "eb2bf736-c875-4bb9-c55e-be87a6a0c267"
      },
      "execution_count": 33,
      "outputs": [
        {
          "output_type": "stream",
          "name": "stdout",
          "text": [
            "tensor([[0.9319, 0.9604, 0.6948, 0.0726],\n",
            "        [0.8947, 0.7395, 0.0234, 0.5581],\n",
            "        [0.0084, 0.2273, 0.5826, 0.9258]])\n",
            "DataType of tensor :torch.float32\n",
            "Shape of tensor : torch.Size([3, 4])\n",
            "Device of tensor : cpu\n"
          ]
        }
      ]
    },
    {
      "cell_type": "markdown",
      "source": [
        "### Manipulation Tensors (tensor operations)\n",
        "#### Tensor opitons include :\n",
        "* Addition\n",
        "* Subtraction\n",
        "* Multiplication\n",
        "* Division\n",
        "* Matrix Multiplication"
      ],
      "metadata": {
        "id": "Q9ostT376IYh"
      }
    },
    {
      "cell_type": "code",
      "source": [
        "# create a tensor and add 10 to it\n",
        "tensor = torch.tensor([1,2,3])\n",
        "tensor+10"
      ],
      "metadata": {
        "id": "iRqMYRxNbyS7",
        "colab": {
          "base_uri": "https://localhost:8080/"
        },
        "outputId": "6e2e7ec2-d479-42a0-8454-e91fc98d7974"
      },
      "execution_count": 34,
      "outputs": [
        {
          "output_type": "execute_result",
          "data": {
            "text/plain": [
              "tensor([11, 12, 13])"
            ]
          },
          "metadata": {},
          "execution_count": 34
        }
      ]
    },
    {
      "cell_type": "code",
      "source": [
        "tensor*10"
      ],
      "metadata": {
        "colab": {
          "base_uri": "https://localhost:8080/"
        },
        "id": "-hdSGxqp6esW",
        "outputId": "d75ecc4c-fabc-4b33-fa97-bc51b61dcc1d"
      },
      "execution_count": 35,
      "outputs": [
        {
          "output_type": "execute_result",
          "data": {
            "text/plain": [
              "tensor([10, 20, 30])"
            ]
          },
          "metadata": {},
          "execution_count": 35
        }
      ]
    },
    {
      "cell_type": "code",
      "source": [
        "tensor-10"
      ],
      "metadata": {
        "colab": {
          "base_uri": "https://localhost:8080/"
        },
        "id": "4lQzJa1B6itq",
        "outputId": "2aad54e3-aacc-45b9-9240-e2b61b19b665"
      },
      "execution_count": 36,
      "outputs": [
        {
          "output_type": "execute_result",
          "data": {
            "text/plain": [
              "tensor([-9, -8, -7])"
            ]
          },
          "metadata": {},
          "execution_count": 36
        }
      ]
    },
    {
      "cell_type": "code",
      "source": [
        "torch.mul(tensor,10) # pytorch inbuilt function"
      ],
      "metadata": {
        "colab": {
          "base_uri": "https://localhost:8080/"
        },
        "id": "FUgOyH0O6qlh",
        "outputId": "85025d83-01ae-48f7-940b-fc02abcd92cd"
      },
      "execution_count": 37,
      "outputs": [
        {
          "output_type": "execute_result",
          "data": {
            "text/plain": [
              "tensor([10, 20, 30])"
            ]
          },
          "metadata": {},
          "execution_count": 37
        }
      ]
    },
    {
      "cell_type": "markdown",
      "source": [
        "## Matrix Multiplication\n",
        "Two main ways of performing multiplication in neural networks and deep learning\n",
        "\n",
        "1. Element wise muliplication\n",
        "2. Matrix multiplication\n",
        "\n",
        "For more information visit :https://www.mathsisfun.com/algebra/matrix-multiplying.html\n",
        "\n",
        "There are two main rules that performing matrix multiplicaiton needs to satisfy:\n",
        "1. The **inner dimensions** must match\n",
        "2. **@** or **mm** used instead of **matmul** but matmul is preferred"
      ],
      "metadata": {
        "id": "tc6516_m7rYk"
      }
    },
    {
      "cell_type": "code",
      "source": [
        "# Element Wise Multiplication\n",
        "print(tensor,\"*\",tensor)\n",
        "print(f\"Equals: {tensor*tensor}\")"
      ],
      "metadata": {
        "colab": {
          "base_uri": "https://localhost:8080/"
        },
        "id": "CbQrOOJl6ttm",
        "outputId": "954442ca-d7b0-4e97-e630-803848b5d74e"
      },
      "execution_count": 38,
      "outputs": [
        {
          "output_type": "stream",
          "name": "stdout",
          "text": [
            "tensor([1, 2, 3]) * tensor([1, 2, 3])\n",
            "Equals: tensor([1, 4, 9])\n"
          ]
        }
      ]
    },
    {
      "cell_type": "code",
      "source": [
        "torch.matmul(tensor,tensor)"
      ],
      "metadata": {
        "colab": {
          "base_uri": "https://localhost:8080/"
        },
        "id": "r2DHvYCE8swj",
        "outputId": "d24d109f-e76f-481b-8ba1-03e0804c0745"
      },
      "execution_count": 39,
      "outputs": [
        {
          "output_type": "execute_result",
          "data": {
            "text/plain": [
              "tensor(14)"
            ]
          },
          "metadata": {},
          "execution_count": 39
        }
      ]
    },
    {
      "cell_type": "code",
      "source": [
        "## Time difference between the function and normal method\n",
        "%%time\n",
        "value=0\n",
        "for i in range(len(tensor)):\n",
        "  value += tensor[i]+tensor[i]\n",
        "print(value)"
      ],
      "metadata": {
        "colab": {
          "base_uri": "https://localhost:8080/"
        },
        "id": "ATJrno1281iQ",
        "outputId": "99257257-ef83-4ece-88df-179e9c09c387"
      },
      "execution_count": 40,
      "outputs": [
        {
          "output_type": "stream",
          "name": "stdout",
          "text": [
            "tensor(12)\n",
            "CPU times: user 552 µs, sys: 923 µs, total: 1.47 ms\n",
            "Wall time: 1.55 ms\n"
          ]
        }
      ]
    },
    {
      "cell_type": "code",
      "source": [
        "%%time\n",
        "torch.matmul(tensor,tensor)"
      ],
      "metadata": {
        "colab": {
          "base_uri": "https://localhost:8080/"
        },
        "id": "9B8DwhVo9mOn",
        "outputId": "a0cebe9f-07ad-4a40-f9f5-d0b4cebf243a"
      },
      "execution_count": 41,
      "outputs": [
        {
          "output_type": "stream",
          "name": "stdout",
          "text": [
            "CPU times: user 301 µs, sys: 49 µs, total: 350 µs\n",
            "Wall time: 266 µs\n"
          ]
        },
        {
          "output_type": "execute_result",
          "data": {
            "text/plain": [
              "tensor(14)"
            ]
          },
          "metadata": {},
          "execution_count": 41
        }
      ]
    },
    {
      "cell_type": "markdown",
      "source": [
        "#### **Conclusion :** time difference between the manual calculation and the inbuilt pytorch function"
      ],
      "metadata": {
        "id": "NcjH2p-k9wK4"
      }
    },
    {
      "cell_type": "markdown",
      "source": [
        "**one of the most common errors in the deep learning is shape error**\n",
        "\n",
        "To fix the tensor shape issues we can manpulate the shape of one of our tensors using a **Transpose**\n",
        "\n",
        "A *Transpose* switches the axes or dimensions of a given tensor"
      ],
      "metadata": {
        "id": "a-R84qwe_apw"
      }
    },
    {
      "cell_type": "code",
      "source": [
        "x = torch.arange(0,100,10)\n",
        "x"
      ],
      "metadata": {
        "colab": {
          "base_uri": "https://localhost:8080/"
        },
        "id": "HgrjfRjVAFB8",
        "outputId": "b39b6bad-a6e1-4c73-96b4-1120b6050845"
      },
      "execution_count": 42,
      "outputs": [
        {
          "output_type": "execute_result",
          "data": {
            "text/plain": [
              "tensor([ 0, 10, 20, 30, 40, 50, 60, 70, 80, 90])"
            ]
          },
          "metadata": {},
          "execution_count": 42
        }
      ]
    },
    {
      "cell_type": "code",
      "source": [
        "x.type(torch.float32).mean()"
      ],
      "metadata": {
        "colab": {
          "base_uri": "https://localhost:8080/"
        },
        "id": "uqSuDvP5_Kvq",
        "outputId": "4e7efabf-a4e2-4feb-bcb0-4324c062b5cb"
      },
      "execution_count": 43,
      "outputs": [
        {
          "output_type": "execute_result",
          "data": {
            "text/plain": [
              "tensor(45.)"
            ]
          },
          "metadata": {},
          "execution_count": 43
        }
      ]
    },
    {
      "cell_type": "code",
      "source": [
        "torch.mean(x.type(torch.float32))"
      ],
      "metadata": {
        "colab": {
          "base_uri": "https://localhost:8080/"
        },
        "id": "-vo-1yAOBTkH",
        "outputId": "7e387d55-321b-4659-d851-fa47cec9090d"
      },
      "execution_count": 44,
      "outputs": [
        {
          "output_type": "execute_result",
          "data": {
            "text/plain": [
              "tensor(45.)"
            ]
          },
          "metadata": {},
          "execution_count": 44
        }
      ]
    },
    {
      "cell_type": "code",
      "source": [
        "x"
      ],
      "metadata": {
        "colab": {
          "base_uri": "https://localhost:8080/"
        },
        "id": "pjjK0Z0P9uEq",
        "outputId": "cacde198-fcf4-465c-e5dd-efa6f4ae33ee"
      },
      "execution_count": 45,
      "outputs": [
        {
          "output_type": "execute_result",
          "data": {
            "text/plain": [
              "tensor([ 0, 10, 20, 30, 40, 50, 60, 70, 80, 90])"
            ]
          },
          "metadata": {},
          "execution_count": 45
        }
      ]
    },
    {
      "cell_type": "code",
      "source": [
        "# Find the position in tensor that has the minimum value with argmin() ->\n",
        "# return the index position of target tensor where the minimum value occurs\n",
        "x.argmin()"
      ],
      "metadata": {
        "colab": {
          "base_uri": "https://localhost:8080/"
        },
        "id": "Yb0Vkl1i-OmF",
        "outputId": "e381aa0c-0b51-48d9-e093-156e79f997b4"
      },
      "execution_count": 46,
      "outputs": [
        {
          "output_type": "execute_result",
          "data": {
            "text/plain": [
              "tensor(0)"
            ]
          },
          "metadata": {},
          "execution_count": 46
        }
      ]
    },
    {
      "cell_type": "code",
      "source": [
        "x.argmax()"
      ],
      "metadata": {
        "colab": {
          "base_uri": "https://localhost:8080/"
        },
        "id": "9Z_ijXvI-Ojd",
        "outputId": "93284e4a-395a-41ee-f3de-a1d2005d4afa"
      },
      "execution_count": 47,
      "outputs": [
        {
          "output_type": "execute_result",
          "data": {
            "text/plain": [
              "tensor(9)"
            ]
          },
          "metadata": {},
          "execution_count": 47
        }
      ]
    },
    {
      "cell_type": "markdown",
      "source": [
        "## Reshaping,stacking ,squeezing and unsqueezing tensors\n",
        "* Reshaping - rephapes an input tensor to a defined shape\n",
        "* View - Return a view of an input tensor of certain shpae butkeep teh same memory as the original tensor\n",
        "* Stacking - combine multiple tensors on top of each other (vstack) or side by side (hstack)\n",
        "* Squeeze - removes all `1` dimensions from a tensor\n",
        "* Unsqueeze - add a `1` to a target tensor\n",
        "* Permute - Return a view of the input with dimensions permuted (swapped) in a certain way"
      ],
      "metadata": {
        "id": "hBc_4Yz6DMSf"
      }
    },
    {
      "cell_type": "code",
      "source": [
        "import torch\n",
        "x = torch.arange(1,10)\n",
        "x,x.shape"
      ],
      "metadata": {
        "colab": {
          "base_uri": "https://localhost:8080/"
        },
        "id": "4G1sFJaQ-OhG",
        "outputId": "68e8d0fd-841f-48c8-d7ef-68e4def54d10"
      },
      "execution_count": 48,
      "outputs": [
        {
          "output_type": "execute_result",
          "data": {
            "text/plain": [
              "(tensor([1, 2, 3, 4, 5, 6, 7, 8, 9]), torch.Size([9]))"
            ]
          },
          "metadata": {},
          "execution_count": 48
        }
      ]
    },
    {
      "cell_type": "code",
      "source": [
        "x_reshaped = x.reshape(9,1) # added the extra dimensions\n",
        "x_reshaped,x_reshaped.shape"
      ],
      "metadata": {
        "colab": {
          "base_uri": "https://localhost:8080/"
        },
        "id": "dFX09GwA-Oel",
        "outputId": "d5ebfd63-0473-4123-da35-fd741d90718c"
      },
      "execution_count": 49,
      "outputs": [
        {
          "output_type": "execute_result",
          "data": {
            "text/plain": [
              "(tensor([[1],\n",
              "         [2],\n",
              "         [3],\n",
              "         [4],\n",
              "         [5],\n",
              "         [6],\n",
              "         [7],\n",
              "         [8],\n",
              "         [9]]),\n",
              " torch.Size([9, 1]))"
            ]
          },
          "metadata": {},
          "execution_count": 49
        }
      ]
    },
    {
      "cell_type": "code",
      "source": [
        "# change the view\n",
        "z = x.view(1,9)\n",
        "z,z.shape"
      ],
      "metadata": {
        "colab": {
          "base_uri": "https://localhost:8080/"
        },
        "id": "yTlWcxYv-OV-",
        "outputId": "dcfa7cba-58dd-478b-fc3c-fb95724c9b18"
      },
      "execution_count": 50,
      "outputs": [
        {
          "output_type": "execute_result",
          "data": {
            "text/plain": [
              "(tensor([[1, 2, 3, 4, 5, 6, 7, 8, 9]]), torch.Size([1, 9]))"
            ]
          },
          "metadata": {},
          "execution_count": 50
        }
      ]
    },
    {
      "cell_type": "code",
      "source": [
        "# Changing z changes x (because a view of tensor shares the same memory as he original)\n",
        "z[:,0]=5\n",
        "z"
      ],
      "metadata": {
        "colab": {
          "base_uri": "https://localhost:8080/"
        },
        "id": "XTxbzxiA-OTm",
        "outputId": "1e1ae1b1-6ab8-4d4d-dace-2605d96b96f7"
      },
      "execution_count": 51,
      "outputs": [
        {
          "output_type": "execute_result",
          "data": {
            "text/plain": [
              "tensor([[5, 2, 3, 4, 5, 6, 7, 8, 9]])"
            ]
          },
          "metadata": {},
          "execution_count": 51
        }
      ]
    },
    {
      "cell_type": "code",
      "source": [
        "x"
      ],
      "metadata": {
        "colab": {
          "base_uri": "https://localhost:8080/"
        },
        "id": "Ihj-udo0-OQ-",
        "outputId": "7aaacad6-7787-4c68-b30b-98e7ffc4f746"
      },
      "execution_count": 52,
      "outputs": [
        {
          "output_type": "execute_result",
          "data": {
            "text/plain": [
              "tensor([5, 2, 3, 4, 5, 6, 7, 8, 9])"
            ]
          },
          "metadata": {},
          "execution_count": 52
        }
      ]
    },
    {
      "cell_type": "code",
      "source": [
        "x_stacked = torch.stack([x,x,x,x],dim=1)"
      ],
      "metadata": {
        "id": "dsPBfZx0GCxz"
      },
      "execution_count": 53,
      "outputs": []
    },
    {
      "cell_type": "code",
      "source": [
        "x_stacked"
      ],
      "metadata": {
        "colab": {
          "base_uri": "https://localhost:8080/"
        },
        "id": "8U9crcdoHymj",
        "outputId": "b2ded94b-2a2b-49c7-9ea4-24f974262b7a"
      },
      "execution_count": 54,
      "outputs": [
        {
          "output_type": "execute_result",
          "data": {
            "text/plain": [
              "tensor([[5, 5, 5, 5],\n",
              "        [2, 2, 2, 2],\n",
              "        [3, 3, 3, 3],\n",
              "        [4, 4, 4, 4],\n",
              "        [5, 5, 5, 5],\n",
              "        [6, 6, 6, 6],\n",
              "        [7, 7, 7, 7],\n",
              "        [8, 8, 8, 8],\n",
              "        [9, 9, 9, 9]])"
            ]
          },
          "metadata": {},
          "execution_count": 54
        }
      ]
    },
    {
      "cell_type": "code",
      "source": [
        "# torch.squeeze() - removes all single dimensions from a target tensor\n",
        "print(f\"Previous tensor: {x_reshaped}\")\n",
        "print(f\"Previous shape: {x_reshaped.shape}\")"
      ],
      "metadata": {
        "colab": {
          "base_uri": "https://localhost:8080/"
        },
        "id": "iY98Ur7bHzVc",
        "outputId": "2d5515a0-d414-4586-8d39-47cec5adbf47"
      },
      "execution_count": 57,
      "outputs": [
        {
          "output_type": "stream",
          "name": "stdout",
          "text": [
            "Previous tensor: tensor([[5],\n",
            "        [2],\n",
            "        [3],\n",
            "        [4],\n",
            "        [5],\n",
            "        [6],\n",
            "        [7],\n",
            "        [8],\n",
            "        [9]])\n",
            "Previous shape: torch.Size([9, 1])\n"
          ]
        }
      ]
    },
    {
      "cell_type": "code",
      "source": [
        "# Remove extra dimensions from x_reshaped\n",
        "x_squeezed = x_reshaped.squeeze()\n",
        "print(f\"\\nNew tensor: {x_squeezed}\")\n",
        "print(f\"New shape: {x_squeezed.shape}\")"
      ],
      "metadata": {
        "colab": {
          "base_uri": "https://localhost:8080/"
        },
        "id": "wN33J9IE9VXh",
        "outputId": "e5701ae9-1d97-4fc6-fc0c-b34ec2de6621"
      },
      "execution_count": 58,
      "outputs": [
        {
          "output_type": "stream",
          "name": "stdout",
          "text": [
            "\n",
            "New tensor: tensor([5, 2, 3, 4, 5, 6, 7, 8, 9])\n",
            "New shape: torch.Size([9])\n"
          ]
        }
      ]
    },
    {
      "cell_type": "code",
      "source": [
        "# torch.unsqueeze() - adds a single dimension to a target tensor at a specific dim (dimension)\n",
        "print(f\"Previous target: {x_squeezed}\")\n",
        "print(f\"Previous shape: {x_squeezed.shape}\")"
      ],
      "metadata": {
        "colab": {
          "base_uri": "https://localhost:8080/"
        },
        "id": "cN59lpNe_7N7",
        "outputId": "24ca37a2-458a-429c-bcab-8912e8c57d14"
      },
      "execution_count": 59,
      "outputs": [
        {
          "output_type": "stream",
          "name": "stdout",
          "text": [
            "Previous target: tensor([5, 2, 3, 4, 5, 6, 7, 8, 9])\n",
            "Previous shape: torch.Size([9])\n"
          ]
        }
      ]
    },
    {
      "cell_type": "code",
      "source": [
        "# Add an extra dimension with unsqueeze\n",
        "x_unsqueezed = x_squeezed.unsqueeze(dim=0)\n",
        "print(f\"\\nNew tensor: {x_unsqueezed}\")\n",
        "print(f\"New shape: {x_unsqueezed.shape}\")"
      ],
      "metadata": {
        "colab": {
          "base_uri": "https://localhost:8080/"
        },
        "id": "r0dO8HA1_9wC",
        "outputId": "c6b50f55-25b8-4171-f1b0-85731deab239"
      },
      "execution_count": 60,
      "outputs": [
        {
          "output_type": "stream",
          "name": "stdout",
          "text": [
            "\n",
            "New tensor: tensor([[5, 2, 3, 4, 5, 6, 7, 8, 9]])\n",
            "New shape: torch.Size([1, 9])\n"
          ]
        }
      ]
    },
    {
      "cell_type": "code",
      "source": [
        "# torch.permute - rearranges the dimensions of a target tensor in a specified order\n",
        "x_original = torch.rand(size=(224, 224, 3)) # [height, width, colour_channels]"
      ],
      "metadata": {
        "id": "x2_AqFYfAIY1"
      },
      "execution_count": 61,
      "outputs": []
    },
    {
      "cell_type": "code",
      "source": [
        "# Permute the original tensor to rearrange the axis (or dim) order\n",
        "x_permuted = x_original.permute(2, 0, 1) # shifts axis 0->1, 1->2, 2->0"
      ],
      "metadata": {
        "id": "Ke3plDzLAPcS"
      },
      "execution_count": 62,
      "outputs": []
    },
    {
      "cell_type": "code",
      "source": [
        "print(f\"Previous shape: {x_original.shape}\")\n",
        "print(f\"New shape: {x_permuted.shape}\") # [colour_channels, height, width]"
      ],
      "metadata": {
        "colab": {
          "base_uri": "https://localhost:8080/"
        },
        "id": "oJ5ZeJ05ATIc",
        "outputId": "58f1fb10-cf97-484c-80f4-20076ebbf39d"
      },
      "execution_count": 63,
      "outputs": [
        {
          "output_type": "stream",
          "name": "stdout",
          "text": [
            "Previous shape: torch.Size([224, 224, 3])\n",
            "New shape: torch.Size([3, 224, 224])\n"
          ]
        }
      ]
    },
    {
      "cell_type": "code",
      "source": [
        "x_original[0,0,0] = 728218\n",
        "x_original[0,0,0] ,x_permuted[0,0,0]"
      ],
      "metadata": {
        "colab": {
          "base_uri": "https://localhost:8080/"
        },
        "id": "YwiZPmguAVvz",
        "outputId": "55b233e4-9159-43e8-b98a-09bc07c2f319"
      },
      "execution_count": 64,
      "outputs": [
        {
          "output_type": "execute_result",
          "data": {
            "text/plain": [
              "(tensor(728218.), tensor(728218.))"
            ]
          },
          "metadata": {},
          "execution_count": 64
        }
      ]
    },
    {
      "cell_type": "code",
      "source": [
        "# indexing(selecting data from tensors)\n",
        "# create a tensor\n",
        "import torch\n",
        "x = torch.arange(1,10).reshape(1,3,3)\n",
        "x,x.shape"
      ],
      "metadata": {
        "colab": {
          "base_uri": "https://localhost:8080/"
        },
        "id": "Dbgeby0eBHhg",
        "outputId": "525fa25a-013b-4992-d7fc-40396f1dda39"
      },
      "execution_count": 65,
      "outputs": [
        {
          "output_type": "execute_result",
          "data": {
            "text/plain": [
              "(tensor([[[1, 2, 3],\n",
              "          [4, 5, 6],\n",
              "          [7, 8, 9]]]),\n",
              " torch.Size([1, 3, 3]))"
            ]
          },
          "metadata": {},
          "execution_count": 65
        }
      ]
    },
    {
      "cell_type": "code",
      "source": [
        "# let's index on our new tensor\n",
        "x[0]"
      ],
      "metadata": {
        "colab": {
          "base_uri": "https://localhost:8080/"
        },
        "id": "c-SphWyMBmlU",
        "outputId": "3bdb6d97-2e62-4682-9b01-a4b956395fb2"
      },
      "execution_count": 66,
      "outputs": [
        {
          "output_type": "execute_result",
          "data": {
            "text/plain": [
              "tensor([[1, 2, 3],\n",
              "        [4, 5, 6],\n",
              "        [7, 8, 9]])"
            ]
          },
          "metadata": {},
          "execution_count": 66
        }
      ]
    },
    {
      "cell_type": "code",
      "source": [
        "x[0][0][0]"
      ],
      "metadata": {
        "colab": {
          "base_uri": "https://localhost:8080/"
        },
        "id": "I7R7ydw1Bomf",
        "outputId": "c8576ba3-a97d-4ee2-b727-24d8c6a78ea5"
      },
      "execution_count": 67,
      "outputs": [
        {
          "output_type": "execute_result",
          "data": {
            "text/plain": [
              "tensor(1)"
            ]
          },
          "metadata": {},
          "execution_count": 67
        }
      ]
    },
    {
      "cell_type": "code",
      "source": [
        "x[:,0]"
      ],
      "metadata": {
        "colab": {
          "base_uri": "https://localhost:8080/"
        },
        "id": "IHKej-CgBoe6",
        "outputId": "99eb41ac-f113-4c71-a9d8-d89c3bd33b72"
      },
      "execution_count": 68,
      "outputs": [
        {
          "output_type": "execute_result",
          "data": {
            "text/plain": [
              "tensor([[1, 2, 3]])"
            ]
          },
          "metadata": {},
          "execution_count": 68
        }
      ]
    },
    {
      "cell_type": "markdown",
      "source": [
        "## PyTorch tensors & numpy\n",
        "NumPy is a popular scientific Python numerical computing library.\n",
        "\n",
        "And because of this, PyTorch has functionality to interact with it.\n",
        "\n",
        "* Data in NumPy, want in PyTorch tensor -> torch.from_numpy(ndarray)\n",
        "* PyTorch tensor -> NumPy -> torch.Tensor.numpy()"
      ],
      "metadata": {
        "id": "eEq19_04CiFK"
      }
    },
    {
      "cell_type": "code",
      "source": [
        "# Numpy array to tensor\n",
        "import torch\n",
        "import numpy as np\n",
        "\n",
        "array = np.arange(1,8)\n",
        "tensor = torch.from_numpy(array)\n",
        "array,tensor"
      ],
      "metadata": {
        "colab": {
          "base_uri": "https://localhost:8080/"
        },
        "id": "8BmYcUTeBobv",
        "outputId": "5049d461-ff22-4f20-89d7-14998d6d7390"
      },
      "execution_count": 69,
      "outputs": [
        {
          "output_type": "execute_result",
          "data": {
            "text/plain": [
              "(array([1, 2, 3, 4, 5, 6, 7]), tensor([1, 2, 3, 4, 5, 6, 7]))"
            ]
          },
          "metadata": {},
          "execution_count": 69
        }
      ]
    },
    {
      "cell_type": "code",
      "source": [
        "array.dtype,tensor.dtype"
      ],
      "metadata": {
        "colab": {
          "base_uri": "https://localhost:8080/"
        },
        "id": "Xb--wnMdDL-p",
        "outputId": "c8477521-412f-4b17-d361-a06e8c8c8fa4"
      },
      "execution_count": 70,
      "outputs": [
        {
          "output_type": "execute_result",
          "data": {
            "text/plain": [
              "(dtype('int64'), torch.int64)"
            ]
          },
          "metadata": {},
          "execution_count": 70
        }
      ]
    },
    {
      "cell_type": "code",
      "source": [
        "# Change the value of array\n",
        "array = array+1\n",
        "array,tensor"
      ],
      "metadata": {
        "colab": {
          "base_uri": "https://localhost:8080/"
        },
        "id": "iloldyQdDQcH",
        "outputId": "3c0f2c42-f997-4993-be99-4e330ace3147"
      },
      "execution_count": 71,
      "outputs": [
        {
          "output_type": "execute_result",
          "data": {
            "text/plain": [
              "(array([2, 3, 4, 5, 6, 7, 8]), tensor([1, 2, 3, 4, 5, 6, 7]))"
            ]
          },
          "metadata": {},
          "execution_count": 71
        }
      ]
    },
    {
      "cell_type": "code",
      "source": [
        "# tensor = torch.from_numpy(array)\n",
        "# warning: when converting from numpy -> pytorch, pytorch reflects numpy's default datatype of float64 unless specified otherwise\n",
        "# array, tensor\n",
        ""
      ],
      "metadata": {
        "id": "3eWRh9ITDtps"
      },
      "execution_count": 72,
      "outputs": []
    },
    {
      "cell_type": "code",
      "source": [
        "# tensor to numpy\n",
        "tensor = torch.ones(7)\n",
        "numpy_tensor = tensor.numpy()\n",
        "tensor,numpy_tensor"
      ],
      "metadata": {
        "colab": {
          "base_uri": "https://localhost:8080/"
        },
        "id": "wQwRvzF5D37H",
        "outputId": "f42822fc-d4d2-4802-cdba-797e59fd9c22"
      },
      "execution_count": 74,
      "outputs": [
        {
          "output_type": "execute_result",
          "data": {
            "text/plain": [
              "(tensor([1., 1., 1., 1., 1., 1., 1.]),\n",
              " array([1., 1., 1., 1., 1., 1., 1.], dtype=float32))"
            ]
          },
          "metadata": {},
          "execution_count": 74
        }
      ]
    },
    {
      "cell_type": "markdown",
      "source": [
        "##Reproducbility (trying to take random out of random)\n",
        "In short how a neural network learns:\n",
        "\n",
        "`start with random numbers -> tensor operations -> update random numbers to try and make them better representations of the data -> again -> again -> again...`\n",
        "\n",
        "To reduce the randomness in neural networks and PyTorch comes the concept of a **random seed.**\n",
        "\n",
        "Essentially what the random seed does is \"flavour\" the randomness."
      ],
      "metadata": {
        "id": "-bcT_lzTEaKq"
      }
    },
    {
      "cell_type": "code",
      "source": [
        "import torch\n",
        "\n",
        "# Create two random tensors\n",
        "random_tensor_A = torch.rand(3, 4)\n",
        "random_tensor_B = torch.rand(3, 4)\n",
        "\n",
        "print(random_tensor_A)\n",
        "print(random_tensor_B)\n",
        "print(random_tensor_A == random_tensor_B)"
      ],
      "metadata": {
        "colab": {
          "base_uri": "https://localhost:8080/"
        },
        "id": "OjQrwmnqENxp",
        "outputId": "55c14442-426b-4d0e-f25c-564899887394"
      },
      "execution_count": 75,
      "outputs": [
        {
          "output_type": "stream",
          "name": "stdout",
          "text": [
            "tensor([[0.5787, 0.0688, 0.6788, 0.1635],\n",
            "        [0.0751, 0.5998, 0.0347, 0.4086],\n",
            "        [0.9517, 0.9010, 0.3875, 0.4320]])\n",
            "tensor([[0.6797, 0.3623, 0.9517, 0.1997],\n",
            "        [0.3806, 0.8614, 0.1048, 0.4453],\n",
            "        [0.3986, 0.0265, 0.9210, 0.8170]])\n",
            "tensor([[False, False, False, False],\n",
            "        [False, False, False, False],\n",
            "        [False, False, False, False]])\n"
          ]
        }
      ]
    },
    {
      "cell_type": "code",
      "source": [
        "# Let's make some random but reproducible tensors\n",
        "import torch\n",
        "\n",
        "# Set the random seed\n",
        "RANDOM_SEED = 42\n",
        "torch.manual_seed(RANDOM_SEED)\n",
        "random_tensor_C = torch.rand(3, 4)\n",
        "\n",
        "torch.manual_seed(RANDOM_SEED)\n",
        "random_tensor_D = torch.rand(3, 4)\n",
        "\n",
        "print(random_tensor_C)\n",
        "print(random_tensor_D)\n",
        "print(random_tensor_C == random_tensor_D)"
      ],
      "metadata": {
        "colab": {
          "base_uri": "https://localhost:8080/"
        },
        "id": "pK6_ukPoEqQw",
        "outputId": "ef10ead2-bc4b-4217-effa-cc82213c4cd8"
      },
      "execution_count": 76,
      "outputs": [
        {
          "output_type": "stream",
          "name": "stdout",
          "text": [
            "tensor([[0.8823, 0.9150, 0.3829, 0.9593],\n",
            "        [0.3904, 0.6009, 0.2566, 0.7936],\n",
            "        [0.9408, 0.1332, 0.9346, 0.5936]])\n",
            "tensor([[0.8823, 0.9150, 0.3829, 0.9593],\n",
            "        [0.3904, 0.6009, 0.2566, 0.7936],\n",
            "        [0.9408, 0.1332, 0.9346, 0.5936]])\n",
            "tensor([[True, True, True, True],\n",
            "        [True, True, True, True],\n",
            "        [True, True, True, True]])\n"
          ]
        }
      ]
    },
    {
      "cell_type": "code",
      "source": [
        "!nvidia-smi"
      ],
      "metadata": {
        "colab": {
          "base_uri": "https://localhost:8080/"
        },
        "id": "_wQSxlE_Es6d",
        "outputId": "0fc5e386-2c1c-4603-a327-5cd4cfa3d34b"
      },
      "execution_count": 77,
      "outputs": [
        {
          "output_type": "stream",
          "name": "stdout",
          "text": [
            "/bin/bash: line 1: nvidia-smi: command not found\n"
          ]
        }
      ]
    },
    {
      "cell_type": "code",
      "source": [
        "# the below output changes when you use the GPU to run\n",
        "# Check for GPU access with PyTorch\n",
        "import torch\n",
        "torch.cuda.is_available()"
      ],
      "metadata": {
        "colab": {
          "base_uri": "https://localhost:8080/"
        },
        "id": "f7jMeyuiE8hE",
        "outputId": "ecba1891-53d9-4b16-c3c5-052b6adfe125"
      },
      "execution_count": 81,
      "outputs": [
        {
          "output_type": "execute_result",
          "data": {
            "text/plain": [
              "False"
            ]
          },
          "metadata": {},
          "execution_count": 81
        }
      ]
    },
    {
      "cell_type": "code",
      "source": [
        "# Setup device agnostic code\n",
        "device = \"cuda\" if torch.cuda.is_available() else \"cpu\"\n",
        "device"
      ],
      "metadata": {
        "colab": {
          "base_uri": "https://localhost:8080/",
          "height": 35
        },
        "id": "uMUUE4T3E-Mm",
        "outputId": "c3282c55-7de2-4a92-e76e-d1dbe85095d7"
      },
      "execution_count": 82,
      "outputs": [
        {
          "output_type": "execute_result",
          "data": {
            "text/plain": [
              "'cpu'"
            ],
            "application/vnd.google.colaboratory.intrinsic+json": {
              "type": "string"
            }
          },
          "metadata": {},
          "execution_count": 82
        }
      ]
    },
    {
      "cell_type": "code",
      "source": [
        "# Count number of devices\n",
        "torch.cuda.device_count()"
      ],
      "metadata": {
        "colab": {
          "base_uri": "https://localhost:8080/"
        },
        "id": "EIMzA8ZmFAJv",
        "outputId": "f472b536-b65d-405c-b30d-8d37ec245ec1"
      },
      "execution_count": 83,
      "outputs": [
        {
          "output_type": "execute_result",
          "data": {
            "text/plain": [
              "0"
            ]
          },
          "metadata": {},
          "execution_count": 83
        }
      ]
    },
    {
      "cell_type": "code",
      "source": [
        "# Create a tensor (default on the CPU)\n",
        "tensor = torch.tensor([1, 2, 3])\n",
        "\n",
        "# Tensor not on GPU\n",
        "print(tensor, tensor.device)"
      ],
      "metadata": {
        "colab": {
          "base_uri": "https://localhost:8080/"
        },
        "id": "dv5Mz5MjFCnm",
        "outputId": "26bbb141-042c-4d11-93ad-0aeb0b1eac4d"
      },
      "execution_count": 84,
      "outputs": [
        {
          "output_type": "stream",
          "name": "stdout",
          "text": [
            "tensor([1, 2, 3]) cpu\n"
          ]
        }
      ]
    },
    {
      "cell_type": "code",
      "source": [
        "# Move tensor to GPU (if available)\n",
        "tensor_on_gpu = tensor.to(device)\n",
        "tensor_on_gpu"
      ],
      "metadata": {
        "colab": {
          "base_uri": "https://localhost:8080/"
        },
        "id": "GAK4H58MFhz3",
        "outputId": "2c004049-66a5-45b2-e703-0f77f2ad140e"
      },
      "execution_count": 85,
      "outputs": [
        {
          "output_type": "execute_result",
          "data": {
            "text/plain": [
              "tensor([1, 2, 3])"
            ]
          },
          "metadata": {},
          "execution_count": 85
        }
      ]
    },
    {
      "cell_type": "code",
      "source": [
        "# If tensor is on GPU, can't transform it to NumPy\n",
        "tensor_on_gpu.numpy()"
      ],
      "metadata": {
        "colab": {
          "base_uri": "https://localhost:8080/"
        },
        "id": "pJwG_5lLFlJZ",
        "outputId": "02efb9af-3871-4a5b-ba9b-e0bf0bc5db8d"
      },
      "execution_count": 86,
      "outputs": [
        {
          "output_type": "execute_result",
          "data": {
            "text/plain": [
              "array([1, 2, 3])"
            ]
          },
          "metadata": {},
          "execution_count": 86
        }
      ]
    },
    {
      "cell_type": "code",
      "source": [
        "# To fix the GPU tensor with NumPy issue, we can first set it to the CPU\n",
        "tensor_back_on_cpu = tensor_on_gpu.cpu().numpy()\n",
        "tensor_back_on_cpu"
      ],
      "metadata": {
        "colab": {
          "base_uri": "https://localhost:8080/"
        },
        "id": "5IWKOVxnF0ie",
        "outputId": "32ec08bc-aa5d-4825-f7ef-06c975c746fe"
      },
      "execution_count": 87,
      "outputs": [
        {
          "output_type": "execute_result",
          "data": {
            "text/plain": [
              "array([1, 2, 3])"
            ]
          },
          "metadata": {},
          "execution_count": 87
        }
      ]
    },
    {
      "cell_type": "code",
      "source": [
        "tensor_on_gpu"
      ],
      "metadata": {
        "colab": {
          "base_uri": "https://localhost:8080/"
        },
        "id": "4aE2mLoaF2m8",
        "outputId": "d16cb5d0-40fe-4ae2-b912-ee87bf81823a"
      },
      "execution_count": 88,
      "outputs": [
        {
          "output_type": "execute_result",
          "data": {
            "text/plain": [
              "tensor([1, 2, 3])"
            ]
          },
          "metadata": {},
          "execution_count": 88
        }
      ]
    },
    {
      "cell_type": "code",
      "source": [],
      "metadata": {
        "id": "pqv1baHIF50J"
      },
      "execution_count": null,
      "outputs": []
    }
  ]
}